{
 "cells": [
  {
   "cell_type": "code",
   "execution_count": 3,
   "metadata": {},
   "outputs": [],
   "source": [
    "import sys\n",
    "import os\n",
    "import os.path\n",
    "\n",
    "import numpy as np\n",
    "import matplotlib.pyplot as plt\n",
    "from scipy import stats\n",
    "\n",
    "# plt.rcParams.update({'font.size': 16})\n",
    "import pandas as pd\n",
    "from scipy.stats import gamma"
   ]
  },
  {
   "cell_type": "markdown",
   "metadata": {},
   "source": [
    "# Generation of SBATCH files"
   ]
  },
  {
   "cell_type": "code",
   "execution_count": 4,
   "metadata": {},
   "outputs": [],
   "source": [
    "def batchwriter(pathtofile=\"analyses/scaling_param/\",files_name=\"simul\", time=24, nodes=1, ntaskspernode=1, mem=2, partition=\"normal\", params_names=[], params_values=[],pathtoexe=\"../../meiosis\"):\n",
    "        if os.path.exists(pathtofile)==False:\n",
    "            os.makedirs(pathtofile)\n",
    "        batchfile= open(\"{0}Run_{1}.sh\".format(pathtofile,files_name),\"w+\")\n",
    "        batchfile.write(\"#!/bin/bash\\n\")\n",
    "        batchfile.write(\"#SBATCH --partition={0}\\n\".format(partition))\n",
    "        batchfile.write(\"#SBATCH --time={0}:00:00\\n\".format(time))\n",
    "        batchfile.write(\"#SBATCH --nodes={0}\\n\".format(nodes))\n",
    "        batchfile.write(\"#SBATCH --ntasks-per-node={0}\\n\".format(ntaskspernode))\n",
    "        batchfile.write(\"#SBATCH --mem={0}gb\\n\".format(mem))\n",
    "        batchfile.write(\"#SBATCH -o Run_{0}.out\\n\".format(files_name))\n",
    "        batchfile.write(\"#SBATCH -e Run_{0}.err\\n\".format(files_name))\n",
    "        batchfile.write(\"\\n\")\n",
    "        batchfile.write(pathtoexe)\n",
    "        for param in range(len(params_names)):\n",
    "            batchfile.write(\" -\"+params_names[param]+\" {0}\".format(params_values[param]))\n",
    "        batchfile.write(\" Run_{0}\".format(files_name))\n",
    "        batchfile.close()"
   ]
  },
  {
   "cell_type": "code",
   "execution_count": 5,
   "metadata": {},
   "outputs": [],
   "source": [
    "#batchwriter(files_name=\"V4\",params_names=[\"u\",\"v\",\"w\",\"N\"],params_values=[1e-5,1e-4,1e-2,10000],pathtoexe=\"./meiosis\")\n",
    "batchwriter()"
   ]
  },
  {
   "cell_type": "code",
   "execution_count": 6,
   "metadata": {},
   "outputs": [],
   "source": [
    "def scaling_U(params_list=[1e-2,1e-3,1e-4,1e-5,1e-6,1e-7,1e-8],files_names=[2,3,4,5,6,7,8]):\n",
    "    index_u=1\n",
    "    path=\"analyses/scaling_U_{0}/\".format(index_u)\n",
    "    print(os.path.exists(path))\n",
    "    while os.path.exists(path):\n",
    "        index_u+=1\n",
    "        path=\"analyses/scaling_U_{0}/\".format(index_u)\n",
    "        print(path)\n",
    "    for i in range (len(params_list)):\n",
    "        batchwriter(pathtofile=path,files_name=\"U_{0}\".format(files_names[i]), params_names=[\"u\"], params_values=[params_list[i]],pathtoexe=\"../../meiosis\")"
   ]
  },
  {
   "cell_type": "code",
   "execution_count": 7,
   "metadata": {},
   "outputs": [
    {
     "name": "stdout",
     "output_type": "stream",
     "text": [
      "True\n",
      "analyses/scaling_U_2/\n"
     ]
    }
   ],
   "source": [
    "scaling_U()"
   ]
  },
  {
   "cell_type": "code",
   "execution_count": 8,
   "metadata": {},
   "outputs": [],
   "source": [
    "def scaling_V(params_list=[1e-2,1e-3,1e-4,1e-5,1e-6,1e-7,1e-8],files_names=[2,3,4,5,6,7,8]):\n",
    "    index_v=1\n",
    "    path=\"analyses/scaling_V_{0}/\".format(index_v)\n",
    "    print(os.path.exists(path))\n",
    "    while os.path.exists(path):\n",
    "        index_v+=1\n",
    "        path=\"analyses/scaling_V_{0}/\".format(index_v)\n",
    "        print(path)\n",
    "    for i in range (len(params_list)):\n",
    "        batchwriter(pathtofile=path,files_name=\"V_{0}\".format(files_names[i]), params_names=[\"v\"], params_values=[params_list[i]],pathtoexe=\"../../meiosis\")"
   ]
  },
  {
   "cell_type": "code",
   "execution_count": 9,
   "metadata": {},
   "outputs": [
    {
     "name": "stdout",
     "output_type": "stream",
     "text": [
      "True\n",
      "analyses/scaling_V_2/\n"
     ]
    }
   ],
   "source": [
    "scaling_V()"
   ]
  },
  {
   "cell_type": "code",
   "execution_count": 10,
   "metadata": {},
   "outputs": [],
   "source": [
    "def scaling_N(params_list=[1e3,1e4,1e5,1e6],files_names=[3,4,5,6]):\n",
    "    index_N=1\n",
    "    path=\"analyses/scaling_N_{0}/\".format(index_N)\n",
    "    print(os.path.exists(path))\n",
    "    while os.path.exists(path):\n",
    "        index_N+=1\n",
    "        path=\"analyses/scaling_N_{0}/\".format(index_N)\n",
    "        print(path)\n",
    "    for i in range (len(params_list)):\n",
    "        batchwriter(pathtofile=path,files_name=\"N_{0}\".format(files_names[i]), params_names=[\"N\"], params_values=[params_list[i]],pathtoexe=\"../../meiosis\")"
   ]
  },
  {
   "cell_type": "code",
   "execution_count": 11,
   "metadata": {},
   "outputs": [
    {
     "name": "stdout",
     "output_type": "stream",
     "text": [
      "True\n",
      "analyses/scaling_N_2/\n"
     ]
    }
   ],
   "source": [
    "scaling_N()"
   ]
  },
  {
   "cell_type": "markdown",
   "metadata": {},
   "source": [
    "# Interpretations"
   ]
  },
  {
   "cell_type": "code",
   "execution_count": null,
   "metadata": {},
   "outputs": [],
   "source": [
    "def readbidimexperiment(target_folder, basename, m, n, param_names = param_names, stat_names = stat_names):\n",
    "\n",
    "    nparams = len(param_names)\n",
    "    nstats = len(stat_names)\n",
    "    target_dir = target_folder + \"/\"\n",
    "\n",
    "    allparams = dict()\n",
    "    for k in range(nparams):\n",
    "        allparams[param_names[k]] = [[[] for j in range(n)] for i in range(m)]\n",
    "    allstats = dict()\n",
    "    for k in range(nstats):\n",
    "        allstats[stat_names[k]] = [[[] for j in range(n)] for i in range(m)]\n",
    "\n",
    "    for i in range(m):\n",
    "        for j in range(n):\n",
    "\n",
    "            with open(target_dir + \"{0}{1}_{2}.mean\".format(basename,i,j)) as infile:   \n",
    "                fields = infile.readline().rstrip('\\n').split()\n",
    "                if len(fields) != nparams + nstats:\n",
    "                    print(\"parsing error\")\n",
    "                    sys.exit()\n",
    "            \n",
    "                floatfields = [float(f) for f in fields]\n",
    "                \n",
    "                params = floatfields[0:nparams]\n",
    "                stats = floatfields[nparams:nparams+nstats]\n",
    "\n",
    "                for k in range(nparams):\n",
    "                    allparams[param_names[k]][i][j] = params[k]\n",
    "            \n",
    "                for k in range(nstats):\n",
    "                    allstats[stat_names[k]][i][j] = stats[k]\n",
    "                    \n",
    "    return (allparams,allstats)"
   ]
  }
 ],
 "metadata": {
  "kernelspec": {
   "display_name": "Python 3",
   "language": "python",
   "name": "python3"
  },
  "language_info": {
   "codemirror_mode": {
    "name": "ipython",
    "version": 3
   },
   "file_extension": ".py",
   "mimetype": "text/x-python",
   "name": "python",
   "nbconvert_exporter": "python",
   "pygments_lexer": "ipython3",
   "version": "3.6.9"
  }
 },
 "nbformat": 4,
 "nbformat_minor": 2
}
